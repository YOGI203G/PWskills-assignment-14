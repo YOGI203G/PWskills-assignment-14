{
 "cells": [
  {
   "cell_type": "markdown",
   "id": "a55ceab5-face-4adf-97e8-1fea442a8ef1",
   "metadata": {},
   "source": [
    "Q1. What is multithreading in python? Why is it used? Name the module used to handle threads in python"
   ]
  },
  {
   "cell_type": "markdown",
   "id": "016990fb-11a9-4473-b289-94ffe724e549",
   "metadata": {},
   "source": [
    "Multithreading in Python is a technique to execute multiple threads (smaller units of a process) simultaneously, each of which runs independently of the main program. It allows multiple threads to share a single CPU, resulting in faster and more efficient execution of programs.\n",
    "\n",
    "Multithreading is used in Python to improve the performance of a program by executing tasks in parallel, especially in cases where tasks are CPU-bound or involve waiting for external resources (e.g., network or disk I/O). It is commonly used in applications that require concurrent or asynchronous processing, such as web servers, data processing pipelines, and real-time systems.\n",
    "\n",
    "In Python, the threading module is used to handle threads. The threading module provides a simple way to create and manage threads, with support for synchronization, locks, and events to coordinate access to shared resources."
   ]
  },
  {
   "cell_type": "markdown",
   "id": "4f90c15b-1a71-4ff6-b796-fe33e3e523e0",
   "metadata": {},
   "source": [
    "Q2. Why threading module used? Write the use of the following functions"
   ]
  },
  {
   "cell_type": "markdown",
   "id": "da645a33-345f-40da-91af-c64da4e019df",
   "metadata": {},
   "source": [
    "activeCount() currentThread() enumerate()"
   ]
  },
  {
   "cell_type": "markdown",
   "id": "d1e0cd59-d12a-430e-847d-7b6ef41b5520",
   "metadata": {},
   "source": [
    "The threading module in Python is used to create and manage threads. It provides a high-level interface for creating threads and controlling their execution, with support for synchronization, locks, and events to coordinate access to shared resources.\n",
    "\n",
    "Here is a brief explanation of the functions you asked about:\n",
    "\n",
    "activeCount(): This function returns the number of currently active threads in the current thread's thread control block. It can be used to check how many threads are currently running in a program.\n",
    "\n",
    "currentThread(): This function returns a reference to the current thread object. It can be used to get information about the current thread, such as its name, identifier, and state.\n",
    "\n",
    "enumerate(): This function returns a list of all currently active thread objects. It can be used to get information about all the threads that are currently running in a program."
   ]
  },
  {
   "cell_type": "code",
   "execution_count": 1,
   "id": "b355236a-3aa4-4d51-988e-b2fd585b835c",
   "metadata": {},
   "outputs": [
    {
     "name": "stdout",
     "output_type": "stream",
     "text": [
      "This is my thread\n",
      "Number of active threads: 8\n",
      "Current thread: <_MainThread(MainThread, started 139929048053568)>\n",
      "All threads: [<_MainThread(MainThread, started 139929048053568)>, <Thread(IOPub, started daemon 139928977524288)>, <Heartbeat(Heartbeat, started daemon 139928893650496)>, <Thread(Thread-3 (_watch_pipe_fd), started daemon 139928868472384)>, <Thread(Thread-4 (_watch_pipe_fd), started daemon 139928860079680)>, <ControlThread(Control, started daemon 139928851686976)>, <HistorySavingThread(IPythonHistorySavingThread, started 139928843294272)>, <ParentPollerUnix(Thread-2, started daemon 139928423888448)>]\n"
     ]
    }
   ],
   "source": [
    "import threading\n",
    "\n",
    "def my_thread_func():\n",
    "    print(\"This is my thread\")\n",
    "\n",
    "t = threading.Thread(target=my_thread_func)\n",
    "\n",
    "t.start()\n",
    "\n",
    "num_threads = threading.active_count()\n",
    "print(\"Number of active threads:\", num_threads)\n",
    "\n",
    "current_thread = threading.current_thread()\n",
    "print(\"Current thread:\", current_thread)\n",
    "\n",
    "all_threads = threading.enumerate()\n",
    "print(\"All threads:\", all_threads)"
   ]
  },
  {
   "cell_type": "markdown",
   "id": "effffdd1-7455-4520-805a-dbc879a75958",
   "metadata": {},
   "source": [
    " Q3. Explain the following functions"
   ]
  },
  {
   "cell_type": "markdown",
   "id": "d4f481fd-ee6e-4fb2-a82c-b8604d90a859",
   "metadata": {},
   "source": [
    "run() start() join() isAlive()"
   ]
  },
  {
   "cell_type": "markdown",
   "id": "1a72d375-ed67-4e59-a9b4-465f1134b92c",
   "metadata": {},
   "source": [
    "These functions are related to the Thread class in Python's threading module. Here's an explanation of each function:\n",
    "\n",
    "run(): This is the method that gets called when you start a thread. It contains the code that will run in the new thread. When creating a new thread, you can define your own run() method that will be executed in that thread.\n",
    "\n",
    "start(): This method starts the thread by calling the run() method. Once you've created a new thread with the Thread class, you can start it by calling the start() method.\n",
    "\n",
    "join(): This method blocks the main thread until the thread it's called on has finished. When you call join() on a thread, the main thread will wait until the thread has finished before continuing execution. This is useful if you need to ensure that a certain thread has completed before continuing with the rest of your code.\n",
    "\n",
    "is_alive(): This method returns True if the thread is still running, and False if it has finished. You can use this method to check the status of a thread and determine whether it's still executing or not."
   ]
  },
  {
   "cell_type": "code",
   "execution_count": 2,
   "id": "78253d9a-1765-4df5-8fa7-cbe87d35ddbc",
   "metadata": {},
   "outputs": [
    {
     "name": "stdout",
     "output_type": "stream",
     "text": [
      "Worker thread started\n",
      "Thread is still running\n",
      "Worker thread finished\n",
      "Thread has finished\n"
     ]
    }
   ],
   "source": [
    "import threading\n",
    "import time\n",
    "\n",
    "def worker():\n",
    "    print(\"Worker thread started\")\n",
    "    time.sleep(2)\n",
    "    print(\"Worker thread finished\")\n",
    "\n",
    "t = threading.Thread(target=worker)\n",
    "\n",
    "t.start()\n",
    "\n",
    "if t.is_alive():\n",
    "    print(\"Thread is still running\")\n",
    "\n",
    "t.join()\n",
    "\n",
    "if t.is_alive():\n",
    "    print(\"Thread is still running\")\n",
    "else:\n",
    "    print(\"Thread has finished\")"
   ]
  },
  {
   "cell_type": "markdown",
   "id": "75f153de-64f8-40d8-9fad-eaf377bfdcce",
   "metadata": {},
   "source": [
    " Q4. Write a python program to create two threads. Thread one must print the list of squares and thread two must print the list of cubes"
   ]
  },
  {
   "cell_type": "code",
   "execution_count": 3,
   "id": "074e9235-d7c0-43bf-87e1-f86b2e3d5063",
   "metadata": {},
   "outputs": [
    {
     "name": "stdout",
     "output_type": "stream",
     "text": [
      "1 squared is 1\n",
      "2 squared is 4\n",
      "3 squared is 9\n",
      "4 squared is 16\n",
      "5 squared is 25\n",
      "6 squared is 36\n",
      "7 squared is 49\n",
      "8 squared is 64\n",
      "9 squared is 81\n",
      "10 squared is 100\n",
      "1 cubed is 1\n",
      "2 cubed is 8\n",
      "3 cubed is 27\n",
      "4 cubed is 64\n",
      "5 cubed is 125\n",
      "6 cubed is 216\n",
      "7 cubed is 343\n",
      "8 cubed is 512\n",
      "9 cubed is 729\n",
      "10 cubed is 1000\n"
     ]
    }
   ],
   "source": [
    "import threading\n",
    "\n",
    "def squares():\n",
    "    for i in range(1, 11):\n",
    "        print(f\"{i} squared is {i*i}\")\n",
    "\n",
    "def cubes():\n",
    "    for i in range(1, 11):\n",
    "        print(f\"{i} cubed is {i*i*i}\")\n",
    "\n",
    "# Create the threads\n",
    "t1 = threading.Thread(target=squares)\n",
    "t2 = threading.Thread(target=cubes)\n",
    "\n",
    "# Start the threads\n",
    "t1.start()\n",
    "t2.start()\n",
    "\n",
    "\n",
    "t1.join()\n",
    "t2.join()"
   ]
  },
  {
   "cell_type": "markdown",
   "id": "fb11eb5d-22bd-4dc5-a830-ec842bcfa82b",
   "metadata": {},
   "source": [
    "Q5. State advantages and disadvantages of multithreading"
   ]
  },
  {
   "cell_type": "markdown",
   "id": "24cfddfc-9610-4653-9f1d-5487b36314e6",
   "metadata": {},
   "source": [
    "Multithreading can offer several advantages and disadvantages, which are listed below:\n",
    "\n",
    "Advantages:\n",
    "\n",
    "Improved performance: Multithreading can improve the performance of a program by allowing it to perform multiple tasks concurrently.\n",
    "\n",
    "Increased responsiveness: Multithreading can improve the responsiveness of a program by allowing it to continue processing user input or other events while it performs time-consuming tasks in the background.\n",
    "\n",
    "Resource sharing: Multithreading can allow multiple threads to share resources, such as memory and file handles, which can save memory and improve efficiency.\n",
    "\n",
    "Disadvantages:\n",
    "\n",
    "Complexity: Multithreading can add complexity to a program, as it requires careful synchronization and coordination between threads to avoid race conditions and other concurrency issues.\n",
    "\n",
    "Overhead: Multithreading can add overhead to a program, as there is a cost associated with creating and managing multiple threads.\n",
    "\n",
    "Debugging: Multithreaded programs can be more difficult to debug, as concurrency issues can be difficult to reproduce and diagnose.\n",
    "\n",
    "Scalability: Multithreading may not always be the best solution for improving the scalability of a program, as it can be limited by factors such as the number of available cores or memory.\n",
    "\n",
    "Overall, multithreading can be a powerful tool for improving the performance and responsiveness of a program, but it requires careful design and management to avoid introducing new issues or complexity."
   ]
  },
  {
   "cell_type": "markdown",
   "id": "c1b6768b-348d-4397-8ec2-d9f943ef0d0a",
   "metadata": {},
   "source": [
    "Q6. Explain deadlocks and race conditions."
   ]
  },
  {
   "cell_type": "markdown",
   "id": "87308179-507c-499d-883a-f10d6e70e240",
   "metadata": {},
   "source": [
    "Deadlocks and race conditions are common concurrency issues that can occur in multithreaded programs.\n",
    "\n",
    "A deadlock occurs when two or more threads are blocked, waiting for each other to release a resource. This can happen when one thread holds a resource that another thread needs, and that second thread holds a resource that the first thread needs. This situation creates a circular dependency, where each thread is waiting for the other to release the resource, and neither can make progress.\n",
    "\n",
    "For example, imagine a program with two threads: Thread A and Thread B. Thread A holds Resource 1 and is waiting for Resource 2, while Thread B holds Resource 2 and is waiting for Resource 1. Since neither thread can proceed until it acquires the other resource, the program is deadlocked.\n",
    "\n",
    "A race condition, on the other hand, occurs when two or more threads access a shared resource in an unpredictable order, leading to unexpected or incorrect results. This can happen when multiple threads attempt to modify the same variable or object, and the order of those modifications is not deterministic.\n",
    "\n",
    "For example, imagine a program with two threads: Thread A and Thread B. Both threads access a shared variable called \"counter\" and increment it by 1. However, the order in which these increments occur is not guaranteed, and the final value of \"counter\" may be unpredictable. This is a race condition, as the final result depends on the order in which the threads execute, which may vary depending on factors such as thread scheduling and timing.\n",
    "\n",
    "Both deadlocks and race conditions can be difficult to detect and diagnose, as they can depend on a variety of external factors and may not be easily reproducible. To avoid these issues, it is important to design multithreaded programs carefully, with appropriate synchronization and coordination between threads to avoid conflicts and ensure correct behavior."
   ]
  },
  {
   "cell_type": "code",
   "execution_count": null,
   "id": "156f7df2-3767-4f3f-968a-a05fe8922a15",
   "metadata": {},
   "outputs": [],
   "source": []
  }
 ],
 "metadata": {
  "kernelspec": {
   "display_name": "Python 3 (ipykernel)",
   "language": "python",
   "name": "python3"
  },
  "language_info": {
   "codemirror_mode": {
    "name": "ipython",
    "version": 3
   },
   "file_extension": ".py",
   "mimetype": "text/x-python",
   "name": "python",
   "nbconvert_exporter": "python",
   "pygments_lexer": "ipython3",
   "version": "3.10.8"
  }
 },
 "nbformat": 4,
 "nbformat_minor": 5
}
